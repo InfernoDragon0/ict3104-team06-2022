{
 "cells": [
  {
   "cell_type": "markdown",
   "metadata": {
    "id": "66RoNbavo2cF"
   },
   "source": [
    "#Formatting and Best Practices\n",
    " - When a user story is tested and completed, update the stories' checkbox in its respective cell.\n",
    " - [ ] Unchecked\n",
    " - [X] Checked\n",
    "\n"
   ]
  },
  {
   "cell_type": "markdown",
   "metadata": {
    "id": "GxOjWcRrlit1"
   },
   "source": [
    "# Setup\n"
   ]
  },
  {
   "cell_type": "markdown",
   "metadata": {
    "id": "mOF2FAU0ZKFS"
   },
   "source": [
    "## Directories"
   ]
  },
  {
   "cell_type": "code",
   "execution_count": 1,
   "metadata": {
    "id": "PPu3Mbd8mn-S"
   },
   "outputs": [],
   "source": [
    "repo_dir = '/content/drive/MyDrive/ict3104-team06-2022/ict3104-team06-2022'\n",
    "pipeline_dir = f'{repo_dir}/Toyota_Smarthome/pipline'"
   ]
  },
  {
   "cell_type": "markdown",
   "metadata": {
    "id": "We_7ahDsZQfn",
    "tags": []
   },
   "source": [
    "## Mount GDrive"
   ]
  },
  {
   "cell_type": "code",
   "execution_count": null,
   "metadata": {
    "colab": {
     "base_uri": "https://localhost:8080/"
    },
    "id": "rRRtkqCIZYR4",
    "outputId": "609a52d9-e1f3-40eb-eedc-1b8d32b9aa4e"
   },
   "outputs": [],
   "source": [
    "from google.colab import drive\n",
    "drive.mount('/content/drive')"
   ]
  },
  {
   "cell_type": "markdown",
   "metadata": {
    "id": "ML-c6IP_YpAy"
   },
   "source": [
    "## Install dependencies"
   ]
  },
  {
   "cell_type": "code",
   "execution_count": 6,
   "metadata": {},
   "outputs": [
    {
     "name": "stdout",
     "output_type": "stream",
     "text": [
      "Collecting package metadata (current_repodata.json): done\n",
      "Solving environment: done\n",
      "\n",
      "\n",
      "==> WARNING: A newer version of conda exists. <==\n",
      "  current version: 4.13.0\n",
      "  latest version: 22.9.0\n",
      "\n",
      "Please update conda by running\n",
      "\n",
      "    $ conda update -n base conda\n",
      "\n",
      "\n",
      "\n",
      "## Package Plan ##\n",
      "\n",
      "  environment location: /srv/conda/envs/notebook\n",
      "\n",
      "  added / updated specs:\n",
      "    - python=3.8\n",
      "\n",
      "\n",
      "The following packages will be downloaded:\n",
      "\n",
      "    package                    |            build\n",
      "    ---------------------------|-----------------\n",
      "    alembic-1.8.1              |     pyhd8ed1ab_0         137 KB  conda-forge\n",
      "    anyio-3.5.0                |   py38h06a4308_0         158 KB  anaconda\n",
      "    argon2-cffi-21.3.0         |     pyhd8ed1ab_0          15 KB  conda-forge\n",
      "    argon2-cffi-bindings-21.2.0|   py38h7f8727e_0          35 KB  anaconda\n",
      "    asttokens-2.0.5            |     pyhd3eb1b0_0          21 KB  anaconda\n",
      "    async_generator-1.10       |             py_0          18 KB  conda-forge\n",
      "    attrs-22.1.0               |     pyh71513ae_1          48 KB  conda-forge\n",
      "    babel-2.10.3               |     pyhd8ed1ab_0         6.7 MB  conda-forge\n",
      "    backcall-0.2.0             |     pyh9f0ad1d_0          13 KB  conda-forge\n",
      "    backports-1.0              |             py_2           4 KB  conda-forge\n",
      "    backports.functools_lru_cache-1.6.4|     pyhd8ed1ab_0           9 KB  conda-forge\n",
      "    beautifulsoup4-4.11.1      |     pyha770c72_0          96 KB  conda-forge\n",
      "    bleach-5.0.1               |     pyhd8ed1ab_0         124 KB  conda-forge\n",
      "    blinker-1.4                |             py_1          13 KB  conda-forge\n",
      "    brotlipy-0.7.0             |py38h27cfd23_1003         349 KB  anaconda\n",
      "    ca-certificates-2022.07.19 |       h06a4308_0         131 KB  anaconda\n",
      "    certifi-2022.6.15          |   py38h06a4308_0         156 KB  anaconda\n",
      "    certipy-0.1.3              |             py_0          17 KB  conda-forge\n",
      "    cffi-1.15.1                |   py38h74dc2b5_0         230 KB  anaconda\n",
      "    charset-normalizer-2.1.0   |     pyhd8ed1ab_0          35 KB  conda-forge\n",
      "    cryptography-37.0.1        |   py38h9ce1e76_0         1.5 MB  anaconda\n",
      "    debugpy-1.5.1              |   py38h295c915_0         2.0 MB  anaconda\n",
      "    decorator-5.1.1            |     pyhd8ed1ab_0          12 KB  conda-forge\n",
      "    defusedxml-0.7.1           |     pyhd8ed1ab_0          23 KB  conda-forge\n",
      "    entrypoints-0.4            |     pyhd8ed1ab_0           9 KB  conda-forge\n",
      "    executing-0.8.3            |     pyhd3eb1b0_0          18 KB  anaconda\n",
      "    flit-core-3.7.1            |     pyhd8ed1ab_0          44 KB  conda-forge\n",
      "    greenlet-1.1.1             |   py38h295c915_0          83 KB  anaconda\n",
      "    idna-3.3                   |     pyhd8ed1ab_0          55 KB  conda-forge\n",
      "    importlib-metadata-4.11.4  |   py38h578d9bd_0          33 KB  conda-forge\n",
      "    importlib_resources-5.9.0  |     pyhd8ed1ab_0          28 KB  conda-forge\n",
      "    ipykernel-6.15.1           |     pyh210e3f2_0          96 KB  conda-forge\n",
      "    ipython-8.4.0              |   py38h06a4308_0         1.1 MB  anaconda\n",
      "    ipython_genutils-0.2.0     |             py_1          21 KB  conda-forge\n",
      "    ipywidgets-7.7.0           |     pyhd8ed1ab_0         103 KB  conda-forge\n",
      "    jedi-0.18.1                |   py38h06a4308_1        1006 KB  anaconda\n",
      "    jinja2-3.1.2               |     pyhd8ed1ab_1          99 KB  conda-forge\n",
      "    json5-0.9.5                |     pyh9f0ad1d_0          20 KB  conda-forge\n",
      "    jsonschema-4.9.0           |     pyhd8ed1ab_0          62 KB  conda-forge\n",
      "    jupyter-offlinenotebook-0.2.2|     pyh1d7be83_0         235 KB  conda-forge\n",
      "    jupyter-resource-usage-0.6.1|     pyhd8ed1ab_0          31 KB  conda-forge\n",
      "    jupyter_client-7.3.4       |     pyhd8ed1ab_0          91 KB  conda-forge\n",
      "    jupyter_core-4.10.0        |   py38h06a4308_0          80 KB  anaconda\n",
      "    jupyter_server-1.18.1      |     pyhd8ed1ab_0         232 KB  conda-forge\n",
      "    jupyter_telemetry-0.1.0    |     pyhd8ed1ab_1          10 KB  conda-forge\n",
      "    jupyterhub-base-1.3.0      |   py38h06a4308_1         1.9 MB  anaconda\n",
      "    jupyterhub-singleuser-1.3.0|   py38h06a4308_1          12 KB  anaconda\n",
      "    jupyterlab-3.3.3           |     pyhd8ed1ab_0         6.1 MB  conda-forge\n",
      "    jupyterlab_pygments-0.2.2  |     pyhd8ed1ab_0          17 KB  conda-forge\n",
      "    jupyterlab_server-2.15.0   |     pyhd8ed1ab_0          49 KB  conda-forge\n",
      "    jupyterlab_widgets-1.1.1   |     pyhd8ed1ab_0         133 KB  conda-forge\n",
      "    libffi-3.3                 |       he6710b0_2          54 KB  anaconda\n",
      "    mako-1.2.1                 |     pyhd8ed1ab_0          61 KB  conda-forge\n",
      "    markupsafe-2.1.1           |   py38h7f8727e_0          22 KB  anaconda\n",
      "    matplotlib-inline-0.1.3    |     pyhd8ed1ab_0          11 KB  conda-forge\n",
      "    mistune-0.8.4              |py38h7b6447c_1000          54 KB  anaconda\n",
      "    nbclassic-0.4.3            |     pyhd8ed1ab_0         7.5 MB  conda-forge\n",
      "    nbclient-0.6.6             |     pyhd8ed1ab_0          65 KB  conda-forge\n",
      "    nbconvert-6.5.0            |     pyhd8ed1ab_0           6 KB  conda-forge\n",
      "    nbconvert-core-6.5.0       |     pyhd8ed1ab_0         425 KB  conda-forge\n",
      "    nbconvert-pandoc-6.5.0     |     pyhd8ed1ab_0           4 KB  conda-forge\n",
      "    nbformat-5.4.0             |     pyhd8ed1ab_0         104 KB  conda-forge\n",
      "    nest-asyncio-1.5.5         |     pyhd8ed1ab_0           9 KB  conda-forge\n",
      "    notebook-6.4.10            |     pyha770c72_0         6.3 MB  conda-forge\n",
      "    notebook-shim-0.1.0        |     pyhd8ed1ab_0          15 KB  conda-forge\n",
      "    nteract_on_jupyter-2.1.3   |             py_0        28.0 MB  conda-forge\n",
      "    oauthlib-3.2.0             |     pyhd8ed1ab_0          90 KB  conda-forge\n",
      "    openssl-1.1.1q             |       h7f8727e_0         3.8 MB  anaconda\n",
      "    packaging-21.3             |     pyhd8ed1ab_0          36 KB  conda-forge\n",
      "    pamela-1.0.0               |             py_0           9 KB  conda-forge\n",
      "    pandocfilters-1.5.0        |     pyhd8ed1ab_0          11 KB  conda-forge\n",
      "    parso-0.8.3                |     pyhd8ed1ab_0          69 KB  conda-forge\n",
      "    pexpect-4.8.0              |     pyh9f0ad1d_2          47 KB  conda-forge\n",
      "    pickleshare-0.7.5          |          py_1003           9 KB  conda-forge\n",
      "    pip-22.2.1                 |     pyhd8ed1ab_0         1.4 MB  conda-forge\n",
      "    pkgutil-resolve-name-1.3.10|     pyhd8ed1ab_0           9 KB  conda-forge\n",
      "    prometheus_client-0.14.1   |     pyhd8ed1ab_0          49 KB  conda-forge\n",
      "    prompt-toolkit-3.0.30      |     pyha770c72_0         254 KB  conda-forge\n",
      "    psutil-5.9.0               |   py38h5eee18b_0         345 KB  anaconda\n",
      "    ptyprocess-0.7.0           |     pyhd3deb0d_0          16 KB  conda-forge\n",
      "    pure_eval-0.2.2            |     pyhd3eb1b0_0          14 KB  anaconda\n",
      "    pycparser-2.21             |     pyhd8ed1ab_0         100 KB  conda-forge\n",
      "    pycurl-7.45.1              |   py38h8f2d780_0         130 KB  anaconda\n",
      "    pygments-2.12.0            |     pyhd8ed1ab_0         817 KB  conda-forge\n",
      "    pyjwt-2.4.0                |     pyhd8ed1ab_0          19 KB  conda-forge\n",
      "    pyopenssl-22.0.0           |     pyhd8ed1ab_0          49 KB  conda-forge\n",
      "    pyparsing-3.0.9            |     pyhd8ed1ab_0          79 KB  conda-forge\n",
      "    pyrsistent-0.18.0          |   py38heee7806_0          95 KB  anaconda\n",
      "    pysocks-1.7.1              |   py38h06a4308_0          31 KB  anaconda\n",
      "    python-3.8.13              |       h12debd9_0        22.7 MB  anaconda\n",
      "    python-dateutil-2.8.2      |     pyhd8ed1ab_0         240 KB  conda-forge\n",
      "    python-fastjsonschema-2.16.1|     pyhd8ed1ab_0         243 KB  conda-forge\n",
      "    python-json-logger-2.0.1   |     pyh9f0ad1d_0          10 KB  conda-forge\n",
      "    python_abi-3.8             |           2_cp38           4 KB  conda-forge\n",
      "    pytz-2022.1                |     pyhd8ed1ab_0         242 KB  conda-forge\n",
      "    pyzmq-23.2.0               |   py38h6a678d5_0         506 KB  anaconda\n",
      "    requests-2.28.1            |     pyhd8ed1ab_0          53 KB  conda-forge\n",
      "    ruamel.yaml-0.16.12        |   py38h7b6447c_1         167 KB  anaconda\n",
      "    ruamel.yaml.clib-0.2.6     |   py38h7f8727e_0         146 KB  anaconda\n",
      "    send2trash-1.8.0           |     pyhd8ed1ab_0          17 KB  conda-forge\n",
      "    setuptools-61.2.0          |   py38h06a4308_0         1.3 MB  anaconda\n",
      "    six-1.16.0                 |     pyh6c4a22f_0          14 KB  conda-forge\n",
      "    sniffio-1.2.0              |   py38h06a4308_1          15 KB  anaconda\n",
      "    soupsieve-2.3.2.post1      |     pyhd8ed1ab_0          34 KB  conda-forge\n",
      "    sqlalchemy-1.4.39          |   py38h5eee18b_0         2.4 MB  anaconda\n",
      "    stack_data-0.2.0           |     pyhd3eb1b0_0          21 KB  anaconda\n",
      "    terminado-0.13.1           |   py38h06a4308_0          30 KB  anaconda\n",
      "    tinycss2-1.1.1             |     pyhd8ed1ab_0          23 KB  conda-forge\n",
      "    tornado-6.1                |   py38h27cfd23_0         648 KB  anaconda\n",
      "    traitlets-5.3.0            |     pyhd8ed1ab_0          85 KB  conda-forge\n",
      "    typing_extensions-4.3.0    |     pyha770c72_0          28 KB  conda-forge\n",
      "    urllib3-1.26.11            |     pyhd8ed1ab_0         102 KB  conda-forge\n",
      "    wcwidth-0.2.5              |     pyh9f0ad1d_2          33 KB  conda-forge\n",
      "    webencodings-0.5.1         |             py_1          12 KB  conda-forge\n",
      "    websocket-client-1.3.3     |     pyhd8ed1ab_0          41 KB  conda-forge\n",
      "    wheel-0.37.1               |     pyhd8ed1ab_0          31 KB  conda-forge\n",
      "    widgetsnbextension-3.6.1   |     pyha770c72_0         1.2 MB  conda-forge\n",
      "    zipp-3.8.0                 |     pyhd8ed1ab_0          12 KB  conda-forge\n",
      "    ------------------------------------------------------------\n",
      "                                           Total:       103.8 MB\n",
      "\n",
      "The following NEW packages will be INSTALLED:\n",
      "\n",
      "  asttokens          anaconda/noarch::asttokens-2.0.5-pyhd3eb1b0_0\n",
      "  executing          anaconda/noarch::executing-0.8.3-pyhd3eb1b0_0\n",
      "  pure_eval          anaconda/noarch::pure_eval-0.2.2-pyhd3eb1b0_0\n",
      "  stack_data         anaconda/noarch::stack_data-0.2.0-pyhd3eb1b0_0\n",
      "\n",
      "The following packages will be UPDATED:\n",
      "\n",
      "  ca-certificates    conda-forge::ca-certificates-2022.6.1~ --> anaconda::ca-certificates-2022.07.19-h06a4308_0\n",
      "  ipython            conda-forge::ipython-7.33.0-py37h89c1~ --> anaconda::ipython-8.4.0-py38h06a4308_0\n",
      "  python             conda-forge::python-3.7.12-hb7a2778_1~ --> anaconda::python-3.8.13-h12debd9_0\n",
      "  python_abi                                    3.7-2_cp37m --> 3.8-2_cp38\n",
      "\n",
      "The following packages will be SUPERSEDED by a higher-priority channel:\n",
      "\n",
      "  anyio              conda-forge::anyio-3.6.1-py37h89c1867~ --> anaconda::anyio-3.5.0-py38h06a4308_0\n",
      "  argon2-cffi-bindi~ conda-forge::argon2-cffi-bindings-21.~ --> anaconda::argon2-cffi-bindings-21.2.0-py38h7f8727e_0\n",
      "  brotlipy           conda-forge::brotlipy-0.7.0-py37h5408~ --> anaconda::brotlipy-0.7.0-py38h27cfd23_1003\n",
      "  certifi            conda-forge::certifi-2022.6.15-py37h8~ --> anaconda::certifi-2022.6.15-py38h06a4308_0\n",
      "  cffi               conda-forge::cffi-1.15.1-py37h43b0acd~ --> anaconda::cffi-1.15.1-py38h74dc2b5_0\n",
      "  cryptography       conda-forge::cryptography-37.0.4-py37~ --> anaconda::cryptography-37.0.1-py38h9ce1e76_0\n",
      "  debugpy            conda-forge::debugpy-1.6.0-py37hd23a5~ --> anaconda::debugpy-1.5.1-py38h295c915_0\n",
      "  greenlet           conda-forge::greenlet-1.1.2-py37hd23a~ --> anaconda::greenlet-1.1.1-py38h295c915_0\n",
      "  jedi               conda-forge::jedi-0.18.1-py37h89c1867~ --> anaconda::jedi-0.18.1-py38h06a4308_1\n",
      "  jupyter_core       conda-forge::jupyter_core-4.11.1-py37~ --> anaconda::jupyter_core-4.10.0-py38h06a4308_0\n",
      "  jupyterhub-base    conda-forge::jupyterhub-base-1.5.0-py~ --> anaconda::jupyterhub-base-1.3.0-py38h06a4308_1\n",
      "  jupyterhub-single~ conda-forge::jupyterhub-singleuser-1.~ --> anaconda::jupyterhub-singleuser-1.3.0-py38h06a4308_1\n",
      "  libffi               conda-forge::libffi-3.4.2-h7f98852_5 --> anaconda::libffi-3.3-he6710b0_2\n",
      "  markupsafe         conda-forge::markupsafe-2.1.1-py37h54~ --> anaconda::markupsafe-2.1.1-py38h7f8727e_0\n",
      "  mistune            conda-forge::mistune-0.8.4-py37h5e8e3~ --> anaconda::mistune-0.8.4-py38h7b6447c_1000\n",
      "  openssl            conda-forge::openssl-1.1.1q-h166bdaf_0 --> anaconda::openssl-1.1.1q-h7f8727e_0\n",
      "  psutil             conda-forge::psutil-5.9.1-py37h540881~ --> anaconda::psutil-5.9.0-py38h5eee18b_0\n",
      "  pycurl             conda-forge::pycurl-7.45.1-py37haaec8~ --> anaconda::pycurl-7.45.1-py38h8f2d780_0\n",
      "  pyrsistent         conda-forge::pyrsistent-0.18.1-py37h5~ --> anaconda::pyrsistent-0.18.0-py38heee7806_0\n",
      "  pysocks            conda-forge::pysocks-1.7.1-py37h89c18~ --> anaconda::pysocks-1.7.1-py38h06a4308_0\n",
      "  pyzmq              conda-forge::pyzmq-23.2.0-py37h0c0c2a~ --> anaconda::pyzmq-23.2.0-py38h6a678d5_0\n",
      "  ruamel.yaml        conda-forge::ruamel.yaml-0.17.21-py37~ --> anaconda::ruamel.yaml-0.16.12-py38h7b6447c_1\n",
      "  ruamel.yaml.clib   conda-forge::ruamel.yaml.clib-0.2.6-p~ --> anaconda::ruamel.yaml.clib-0.2.6-py38h7f8727e_0\n",
      "  setuptools         conda-forge::setuptools-63.3.0-py37h8~ --> anaconda::setuptools-61.2.0-py38h06a4308_0\n",
      "  sniffio            conda-forge::sniffio-1.2.0-py37h89c18~ --> anaconda::sniffio-1.2.0-py38h06a4308_1\n",
      "  sqlalchemy         conda-forge::sqlalchemy-1.4.39-py37h5~ --> anaconda::sqlalchemy-1.4.39-py38h5eee18b_0\n",
      "  terminado          conda-forge::terminado-0.15.0-py37h89~ --> anaconda::terminado-0.13.1-py38h06a4308_0\n",
      "  tornado            conda-forge::tornado-6.2-py37h540881e~ --> anaconda::tornado-6.1-py38h27cfd23_0\n",
      "\n",
      "The following packages will be DOWNGRADED:\n",
      "\n",
      "  importlib-metadata                  4.11.4-py37h89c1867_0 --> 4.11.4-py38h578d9bd_0\n",
      "\n",
      "\n",
      "\n",
      "Downloading and Extracting Packages\n",
      "pyopenssl-22.0.0     | 49 KB     | ##################################### | 100% \n",
      "nbclassic-0.4.3      | 7.5 MB    | ##################################### | 100% \n",
      "pytz-2022.1          | 242 KB    | ##################################### | 100% \n",
      "argon2-cffi-bindings | 35 KB     | ##################################### | 100% \n",
      "jsonschema-4.9.0     | 62 KB     | ##################################### | 100% \n",
      "ca-certificates-2022 | 131 KB    | ##################################### | 100% \n",
      "requests-2.28.1      | 53 KB     | ##################################### | 100% \n",
      "attrs-22.1.0         | 48 KB     | ##################################### | 100% \n",
      "jupyterhub-base-1.3. | 1.9 MB    | ##################################### | 100% \n",
      "python-fastjsonschem | 243 KB    | ##################################### | 100% \n",
      "beautifulsoup4-4.11. | 96 KB     | ##################################### | 100% \n",
      "soupsieve-2.3.2.post | 34 KB     | ##################################### | 100% \n",
      "defusedxml-0.7.1     | 23 KB     | ##################################### | 100% \n",
      "pip-22.2.1           | 1.4 MB    | ##################################### | 100% \n",
      "pexpect-4.8.0        | 47 KB     | ##################################### | 100% \n",
      "cryptography-37.0.1  | 1.5 MB    | ##################################### | 100% \n",
      "wcwidth-0.2.5        | 33 KB     | ##################################### | 100% \n",
      "pkgutil-resolve-name | 9 KB      | ##################################### | 100% \n",
      "nbconvert-pandoc-6.5 | 4 KB      | ##################################### | 100% \n",
      "pandocfilters-1.5.0  | 11 KB     | ##################################### | 100% \n",
      "prompt-toolkit-3.0.3 | 254 KB    | ##################################### | 100% \n",
      "traitlets-5.3.0      | 85 KB     | ##################################### | 100% \n",
      "send2trash-1.8.0     | 17 KB     | ##################################### | 100% \n",
      "notebook-shim-0.1.0  | 15 KB     | ##################################### | 100% \n",
      "pyjwt-2.4.0          | 19 KB     | ##################################### | 100% \n",
      "babel-2.10.3         | 6.7 MB    | ##################################### | 100% \n",
      "nteract_on_jupyter-2 | 28.0 MB   | ##################################### | 100% \n",
      "pycparser-2.21       | 100 KB    | ##################################### | 100% \n",
      "importlib_resources- | 28 KB     | ##################################### | 100% \n",
      "urllib3-1.26.11      | 102 KB    | ##################################### | 100% \n",
      "python_abi-3.8       | 4 KB      | ##################################### | 100% \n",
      "jedi-0.18.1          | 1006 KB   | ##################################### | 100% \n",
      "stack_data-0.2.0     | 21 KB     | ##################################### | 100% \n",
      "jupyter-resource-usa | 31 KB     | ##################################### | 100% \n",
      "wheel-0.37.1         | 31 KB     | ##################################### | 100% \n",
      "async_generator-1.10 | 18 KB     | ##################################### | 100% \n",
      "jupyter_client-7.3.4 | 91 KB     | ##################################### | 100% \n",
      "alembic-1.8.1        | 137 KB    | ##################################### | 100% \n",
      "decorator-5.1.1      | 12 KB     | ##################################### | 100% \n",
      "sqlalchemy-1.4.39    | 2.4 MB    | ##################################### | 100% \n",
      "pygments-2.12.0      | 817 KB    | ##################################### | 100% \n",
      "openssl-1.1.1q       | 3.8 MB    | ##################################### | 100% \n",
      "asttokens-2.0.5      | 21 KB     | ##################################### | 100% \n",
      "nbformat-5.4.0       | 104 KB    | ##################################### | 100% \n",
      "ipython_genutils-0.2 | 21 KB     | ##################################### | 100% \n",
      "mistune-0.8.4        | 54 KB     | ##################################### | 100% \n",
      "backports.functools_ | 9 KB      | ##################################### | 100% \n",
      "tornado-6.1          | 648 KB    | ##################################### | 100% \n",
      "websocket-client-1.3 | 41 KB     | ##################################### | 100% \n",
      "jupyterlab_server-2. | 49 KB     | ##################################### | 100% \n",
      "brotlipy-0.7.0       | 349 KB    | ##################################### | 100% \n",
      "pyzmq-23.2.0         | 506 KB    | ##################################### | 100% \n",
      "nbclient-0.6.6       | 65 KB     | ##################################### | 100% \n",
      "python-3.8.13        | 22.7 MB   | ##################################### | 100% \n",
      "json5-0.9.5          | 20 KB     | ##################################### | 100% \n",
      "blinker-1.4          | 13 KB     | ##################################### | 100% \n",
      "cffi-1.15.1          | 230 KB    | ##################################### | 100% \n",
      "python-dateutil-2.8. | 240 KB    | ##################################### | 100% \n",
      "ipywidgets-7.7.0     | 103 KB    | ##################################### | 100% \n",
      "bleach-5.0.1         | 124 KB    | ##################################### | 100% \n",
      "importlib-metadata-4 | 33 KB     | ##################################### | 100% \n",
      "jupyterlab-3.3.3     | 6.1 MB    | ##################################### | 100% \n",
      "setuptools-61.2.0    | 1.3 MB    | ##################################### | 100% \n",
      "pycurl-7.45.1        | 130 KB    | ##################################### | 100% \n",
      "libffi-3.3           | 54 KB     | ##################################### | 100% \n",
      "ipykernel-6.15.1     | 96 KB     | ##################################### | 100% \n",
      "parso-0.8.3          | 69 KB     | ##################################### | 100% \n",
      "ruamel.yaml.clib-0.2 | 146 KB    | ##################################### | 100% \n",
      "greenlet-1.1.1       | 83 KB     | ##################################### | 100% \n",
      "jupyterlab_widgets-1 | 133 KB    | ##################################### | 100% \n",
      "pyparsing-3.0.9      | 79 KB     | ##################################### | 100% \n",
      "backports-1.0        | 4 KB      | ##################################### | 100% \n",
      "jupyter_core-4.10.0  | 80 KB     | ##################################### | 100% \n",
      "zipp-3.8.0           | 12 KB     | ##################################### | 100% \n",
      "terminado-0.13.1     | 30 KB     | ##################################### | 100% \n",
      "flit-core-3.7.1      | 44 KB     | ##################################### | 100% \n",
      "markupsafe-2.1.1     | 22 KB     | ##################################### | 100% \n",
      "backcall-0.2.0       | 13 KB     | ##################################### | 100% \n",
      "pyrsistent-0.18.0    | 95 KB     | ##################################### | 100% \n",
      "debugpy-1.5.1        | 2.0 MB    | ##################################### | 100% \n",
      "pamela-1.0.0         | 9 KB      | ##################################### | 100% \n",
      "matplotlib-inline-0. | 11 KB     | ##################################### | 100% \n",
      "pysocks-1.7.1        | 31 KB     | ##################################### | 100% \n",
      "psutil-5.9.0         | 345 KB    | ##################################### | 100% \n",
      "jinja2-3.1.2         | 99 KB     | ##################################### | 100% \n",
      "webencodings-0.5.1   | 12 KB     | ##################################### | 100% \n",
      "ipython-8.4.0        | 1.1 MB    | ##################################### | 100% \n",
      "pure_eval-0.2.2      | 14 KB     | ##################################### | 100% \n",
      "jupyter-offlinenoteb | 235 KB    | ##################################### | 100% \n",
      "nbconvert-6.5.0      | 6 KB      | ##################################### | 100% \n",
      "certipy-0.1.3        | 17 KB     | ##################################### | 100% \n",
      "executing-0.8.3      | 18 KB     | ##################################### | 100% \n",
      "nbconvert-core-6.5.0 | 425 KB    | ##################################### | 100% \n",
      "prometheus_client-0. | 49 KB     | ##################################### | 100% \n",
      "ptyprocess-0.7.0     | 16 KB     | ##################################### | 100% \n",
      "certifi-2022.6.15    | 156 KB    | ##################################### | 100% \n",
      "typing_extensions-4. | 28 KB     | ##################################### | 100% \n",
      "mako-1.2.1           | 61 KB     | ##################################### | 100% \n",
      "nest-asyncio-1.5.5   | 9 KB      | ##################################### | 100% \n",
      "packaging-21.3       | 36 KB     | ##################################### | 100% \n",
      "jupyter_server-1.18. | 232 KB    | ##################################### | 100% \n",
      "tinycss2-1.1.1       | 23 KB     | ##################################### | 100% \n",
      "anyio-3.5.0          | 158 KB    | ##################################### | 100% \n",
      "python-json-logger-2 | 10 KB     | ##################################### | 100% \n",
      "oauthlib-3.2.0       | 90 KB     | ##################################### | 100% \n",
      "entrypoints-0.4      | 9 KB      | ##################################### | 100% \n",
      "pickleshare-0.7.5    | 9 KB      | ##################################### | 100% \n",
      "widgetsnbextension-3 | 1.2 MB    | ##################################### | 100% \n",
      "six-1.16.0           | 14 KB     | ##################################### | 100% \n",
      "notebook-6.4.10      | 6.3 MB    | ##################################### | 100% \n",
      "sniffio-1.2.0        | 15 KB     | ##################################### | 100% \n",
      "argon2-cffi-21.3.0   | 15 KB     | ##################################### | 100% \n",
      "jupyterlab_pygments- | 17 KB     | ##################################### | 100% \n",
      "idna-3.3             | 55 KB     | ##################################### | 100% \n",
      "charset-normalizer-2 | 35 KB     | ##################################### | 100% \n",
      "ruamel.yaml-0.16.12  | 167 KB    | ##################################### | 100% \n",
      "jupyterhub-singleuse | 12 KB     | ##################################### | 100% \n",
      "jupyter_telemetry-0. | 10 KB     | ##################################### | 100% \n",
      "Preparing transaction: done\n",
      "Verifying transaction: done\n",
      "Executing transaction: done\n",
      "\n",
      "Note: you may need to restart the kernel to use updated packages.\n"
     ]
    }
   ],
   "source": [
    "conda install -c anaconda python=3.8"
   ]
  },
  {
   "cell_type": "code",
   "execution_count": 11,
   "metadata": {
    "colab": {
     "base_uri": "https://localhost:8080/"
    },
    "id": "6e9ClqHWbOWT",
    "outputId": "d496a98d-a993-4051-f1d7-7ac73096a1c8"
   },
   "outputs": [
    {
     "name": "stdout",
     "output_type": "stream",
     "text": [
      "Looking in links: https://download.pytorch.org/whl/torch_stable.html\n",
      "Collecting torch==1.10.1+cu111\n",
      "  Downloading https://download.pytorch.org/whl/cu111/torch-1.10.1%2Bcu111-cp38-cp38-linux_x86_64.whl (2137.7 MB)\n",
      "\u001b[2K     \u001b[91m━━━━━━━━━━━━━━━━━━━━━━━━━━━━━━━━━━━━━━━\u001b[0m\u001b[91m╸\u001b[0m \u001b[32m2.1/2.1 GB\u001b[0m \u001b[31m7.8 MB/s\u001b[0m eta \u001b[36m0:00:01\u001b[0m00:07\u001b[0m"
     ]
    }
   ],
   "source": [
    "!pip install torch==1.10.1+cu111 torchvision==0.11.2+cu111 torchaudio==0.10.1 -f https://download.pytorch.org/whl/torch_stable.html"
   ]
  },
  {
   "cell_type": "code",
   "execution_count": 12,
   "metadata": {
    "colab": {
     "base_uri": "https://localhost:8080/"
    },
    "id": "9_VTNyxrnGqf",
    "outputId": "f891afb8-0485-4358-f9f1-73837649a33a"
   },
   "outputs": [
    {
     "name": "stdout",
     "output_type": "stream",
     "text": [
      "Requirement already satisfied: ipywidgets in /srv/conda/envs/notebook/lib/python3.8/site-packages (7.7.0)\n",
      "Requirement already satisfied: ipykernel>=4.5.1 in /srv/conda/envs/notebook/lib/python3.8/site-packages (from ipywidgets) (6.15.1)\n",
      "Requirement already satisfied: jupyterlab-widgets>=1.0.0 in /srv/conda/envs/notebook/lib/python3.8/site-packages (from ipywidgets) (1.1.1)\n",
      "Requirement already satisfied: traitlets>=4.3.1 in /srv/conda/envs/notebook/lib/python3.8/site-packages (from ipywidgets) (5.3.0)\n",
      "Requirement already satisfied: ipython>=4.0.0 in /srv/conda/envs/notebook/lib/python3.8/site-packages (from ipywidgets) (8.4.0)\n",
      "Requirement already satisfied: ipython-genutils~=0.2.0 in /srv/conda/envs/notebook/lib/python3.8/site-packages (from ipywidgets) (0.2.0)\n",
      "Requirement already satisfied: nbformat>=4.2.0 in /srv/conda/envs/notebook/lib/python3.8/site-packages (from ipywidgets) (5.4.0)\n",
      "Requirement already satisfied: widgetsnbextension~=3.6.0 in /srv/conda/envs/notebook/lib/python3.8/site-packages (from ipywidgets) (3.6.1)\n",
      "Requirement already satisfied: debugpy>=1.0 in /srv/conda/envs/notebook/lib/python3.8/site-packages (from ipykernel>=4.5.1->ipywidgets) (1.5.1)\n",
      "Requirement already satisfied: jupyter-client>=6.1.12 in /srv/conda/envs/notebook/lib/python3.8/site-packages (from ipykernel>=4.5.1->ipywidgets) (7.3.4)\n",
      "Requirement already satisfied: matplotlib-inline>=0.1 in /srv/conda/envs/notebook/lib/python3.8/site-packages (from ipykernel>=4.5.1->ipywidgets) (0.1.3)\n",
      "Requirement already satisfied: packaging in /srv/conda/envs/notebook/lib/python3.8/site-packages (from ipykernel>=4.5.1->ipywidgets) (21.3)\n",
      "Requirement already satisfied: pyzmq>=17 in /srv/conda/envs/notebook/lib/python3.8/site-packages (from ipykernel>=4.5.1->ipywidgets) (23.2.0)\n",
      "Requirement already satisfied: tornado>=6.1 in /srv/conda/envs/notebook/lib/python3.8/site-packages (from ipykernel>=4.5.1->ipywidgets) (6.1)\n",
      "Requirement already satisfied: psutil in /srv/conda/envs/notebook/lib/python3.8/site-packages (from ipykernel>=4.5.1->ipywidgets) (5.9.0)\n",
      "Requirement already satisfied: nest-asyncio in /srv/conda/envs/notebook/lib/python3.8/site-packages (from ipykernel>=4.5.1->ipywidgets) (1.5.5)\n",
      "Requirement already satisfied: jedi>=0.16 in /srv/conda/envs/notebook/lib/python3.8/site-packages (from ipython>=4.0.0->ipywidgets) (0.18.1)\n",
      "Requirement already satisfied: stack-data in /srv/conda/envs/notebook/lib/python3.8/site-packages (from ipython>=4.0.0->ipywidgets) (0.2.0)\n",
      "Requirement already satisfied: pygments>=2.4.0 in /srv/conda/envs/notebook/lib/python3.8/site-packages (from ipython>=4.0.0->ipywidgets) (2.12.0)\n",
      "Requirement already satisfied: setuptools>=18.5 in /srv/conda/envs/notebook/lib/python3.8/site-packages (from ipython>=4.0.0->ipywidgets) (61.2.0)\n",
      "Requirement already satisfied: decorator in /srv/conda/envs/notebook/lib/python3.8/site-packages (from ipython>=4.0.0->ipywidgets) (5.1.1)\n",
      "Requirement already satisfied: pickleshare in /srv/conda/envs/notebook/lib/python3.8/site-packages (from ipython>=4.0.0->ipywidgets) (0.7.5)\n",
      "Requirement already satisfied: pexpect>4.3 in /srv/conda/envs/notebook/lib/python3.8/site-packages (from ipython>=4.0.0->ipywidgets) (4.8.0)\n",
      "Requirement already satisfied: prompt-toolkit!=3.0.0,!=3.0.1,<3.1.0,>=2.0.0 in /srv/conda/envs/notebook/lib/python3.8/site-packages (from ipython>=4.0.0->ipywidgets) (3.0.30)\n",
      "Requirement already satisfied: backcall in /srv/conda/envs/notebook/lib/python3.8/site-packages (from ipython>=4.0.0->ipywidgets) (0.2.0)\n",
      "Requirement already satisfied: jupyter-core in /srv/conda/envs/notebook/lib/python3.8/site-packages (from nbformat>=4.2.0->ipywidgets) (4.10.0)\n",
      "Requirement already satisfied: jsonschema>=2.6 in /srv/conda/envs/notebook/lib/python3.8/site-packages (from nbformat>=4.2.0->ipywidgets) (4.9.0)\n",
      "Requirement already satisfied: fastjsonschema in /srv/conda/envs/notebook/lib/python3.8/site-packages (from nbformat>=4.2.0->ipywidgets) (2.16.1)\n",
      "Requirement already satisfied: notebook>=4.4.1 in /srv/conda/envs/notebook/lib/python3.8/site-packages (from widgetsnbextension~=3.6.0->ipywidgets) (6.4.10)\n",
      "Requirement already satisfied: parso<0.9.0,>=0.8.0 in /srv/conda/envs/notebook/lib/python3.8/site-packages (from jedi>=0.16->ipython>=4.0.0->ipywidgets) (0.8.3)\n",
      "Requirement already satisfied: importlib-resources>=1.4.0 in /srv/conda/envs/notebook/lib/python3.8/site-packages (from jsonschema>=2.6->nbformat>=4.2.0->ipywidgets) (5.9.0)\n",
      "Requirement already satisfied: pyrsistent!=0.17.0,!=0.17.1,!=0.17.2,>=0.14.0 in /srv/conda/envs/notebook/lib/python3.8/site-packages (from jsonschema>=2.6->nbformat>=4.2.0->ipywidgets) (0.18.0)\n",
      "Requirement already satisfied: attrs>=17.4.0 in /srv/conda/envs/notebook/lib/python3.8/site-packages (from jsonschema>=2.6->nbformat>=4.2.0->ipywidgets) (22.1.0)\n",
      "Requirement already satisfied: pkgutil-resolve-name>=1.3.10 in /srv/conda/envs/notebook/lib/python3.8/site-packages (from jsonschema>=2.6->nbformat>=4.2.0->ipywidgets) (1.3.10)\n",
      "Requirement already satisfied: entrypoints in /srv/conda/envs/notebook/lib/python3.8/site-packages (from jupyter-client>=6.1.12->ipykernel>=4.5.1->ipywidgets) (0.4)\n",
      "Requirement already satisfied: python-dateutil>=2.8.2 in /srv/conda/envs/notebook/lib/python3.8/site-packages (from jupyter-client>=6.1.12->ipykernel>=4.5.1->ipywidgets) (2.8.2)\n",
      "Requirement already satisfied: nbconvert>=5 in /srv/conda/envs/notebook/lib/python3.8/site-packages (from notebook>=4.4.1->widgetsnbextension~=3.6.0->ipywidgets) (6.5.0)\n",
      "Requirement already satisfied: terminado>=0.8.3 in /srv/conda/envs/notebook/lib/python3.8/site-packages (from notebook>=4.4.1->widgetsnbextension~=3.6.0->ipywidgets) (0.13.1)\n",
      "Requirement already satisfied: jinja2 in /srv/conda/envs/notebook/lib/python3.8/site-packages (from notebook>=4.4.1->widgetsnbextension~=3.6.0->ipywidgets) (3.1.2)\n",
      "Requirement already satisfied: prometheus-client in /srv/conda/envs/notebook/lib/python3.8/site-packages (from notebook>=4.4.1->widgetsnbextension~=3.6.0->ipywidgets) (0.14.1)\n",
      "Requirement already satisfied: Send2Trash>=1.8.0 in /srv/conda/envs/notebook/lib/python3.8/site-packages (from notebook>=4.4.1->widgetsnbextension~=3.6.0->ipywidgets) (1.8.0)\n",
      "Requirement already satisfied: argon2-cffi in /srv/conda/envs/notebook/lib/python3.8/site-packages (from notebook>=4.4.1->widgetsnbextension~=3.6.0->ipywidgets) (21.3.0)\n",
      "Requirement already satisfied: ptyprocess>=0.5 in /srv/conda/envs/notebook/lib/python3.8/site-packages (from pexpect>4.3->ipython>=4.0.0->ipywidgets) (0.7.0)\n",
      "Requirement already satisfied: wcwidth in /srv/conda/envs/notebook/lib/python3.8/site-packages (from prompt-toolkit!=3.0.0,!=3.0.1,<3.1.0,>=2.0.0->ipython>=4.0.0->ipywidgets) (0.2.5)\n",
      "Requirement already satisfied: pyparsing!=3.0.5,>=2.0.2 in /srv/conda/envs/notebook/lib/python3.8/site-packages (from packaging->ipykernel>=4.5.1->ipywidgets) (3.0.9)\n",
      "Requirement already satisfied: executing in /srv/conda/envs/notebook/lib/python3.8/site-packages (from stack-data->ipython>=4.0.0->ipywidgets) (0.8.3)\n",
      "Requirement already satisfied: pure-eval in /srv/conda/envs/notebook/lib/python3.8/site-packages (from stack-data->ipython>=4.0.0->ipywidgets) (0.2.2)\n",
      "Requirement already satisfied: asttokens in /srv/conda/envs/notebook/lib/python3.8/site-packages (from stack-data->ipython>=4.0.0->ipywidgets) (2.0.5)\n",
      "Requirement already satisfied: zipp>=3.1.0 in /srv/conda/envs/notebook/lib/python3.8/site-packages (from importlib-resources>=1.4.0->jsonschema>=2.6->nbformat>=4.2.0->ipywidgets) (3.8.0)\n",
      "Requirement already satisfied: pandocfilters>=1.4.1 in /srv/conda/envs/notebook/lib/python3.8/site-packages (from nbconvert>=5->notebook>=4.4.1->widgetsnbextension~=3.6.0->ipywidgets) (1.5.0)\n",
      "Requirement already satisfied: beautifulsoup4 in /srv/conda/envs/notebook/lib/python3.8/site-packages (from nbconvert>=5->notebook>=4.4.1->widgetsnbextension~=3.6.0->ipywidgets) (4.11.1)\n",
      "Requirement already satisfied: mistune<2,>=0.8.1 in /srv/conda/envs/notebook/lib/python3.8/site-packages (from nbconvert>=5->notebook>=4.4.1->widgetsnbextension~=3.6.0->ipywidgets) (0.8.4)\n",
      "Requirement already satisfied: nbclient>=0.5.0 in /srv/conda/envs/notebook/lib/python3.8/site-packages (from nbconvert>=5->notebook>=4.4.1->widgetsnbextension~=3.6.0->ipywidgets) (0.6.6)\n",
      "Requirement already satisfied: MarkupSafe>=2.0 in /srv/conda/envs/notebook/lib/python3.8/site-packages (from nbconvert>=5->notebook>=4.4.1->widgetsnbextension~=3.6.0->ipywidgets) (2.1.1)\n",
      "Requirement already satisfied: tinycss2 in /srv/conda/envs/notebook/lib/python3.8/site-packages (from nbconvert>=5->notebook>=4.4.1->widgetsnbextension~=3.6.0->ipywidgets) (1.1.1)\n",
      "Requirement already satisfied: defusedxml in /srv/conda/envs/notebook/lib/python3.8/site-packages (from nbconvert>=5->notebook>=4.4.1->widgetsnbextension~=3.6.0->ipywidgets) (0.7.1)\n",
      "Requirement already satisfied: bleach in /srv/conda/envs/notebook/lib/python3.8/site-packages (from nbconvert>=5->notebook>=4.4.1->widgetsnbextension~=3.6.0->ipywidgets) (5.0.1)\n",
      "Requirement already satisfied: jupyterlab-pygments in /srv/conda/envs/notebook/lib/python3.8/site-packages (from nbconvert>=5->notebook>=4.4.1->widgetsnbextension~=3.6.0->ipywidgets) (0.2.2)\n",
      "Requirement already satisfied: six>=1.5 in /srv/conda/envs/notebook/lib/python3.8/site-packages (from python-dateutil>=2.8.2->jupyter-client>=6.1.12->ipykernel>=4.5.1->ipywidgets) (1.16.0)\n",
      "Requirement already satisfied: argon2-cffi-bindings in /srv/conda/envs/notebook/lib/python3.8/site-packages (from argon2-cffi->notebook>=4.4.1->widgetsnbextension~=3.6.0->ipywidgets) (21.2.0)\n",
      "Requirement already satisfied: cffi>=1.0.1 in /srv/conda/envs/notebook/lib/python3.8/site-packages (from argon2-cffi-bindings->argon2-cffi->notebook>=4.4.1->widgetsnbextension~=3.6.0->ipywidgets) (1.15.1)\n",
      "Requirement already satisfied: soupsieve>1.2 in /srv/conda/envs/notebook/lib/python3.8/site-packages (from beautifulsoup4->nbconvert>=5->notebook>=4.4.1->widgetsnbextension~=3.6.0->ipywidgets) (2.3.2.post1)\n",
      "Requirement already satisfied: webencodings in /srv/conda/envs/notebook/lib/python3.8/site-packages (from bleach->nbconvert>=5->notebook>=4.4.1->widgetsnbextension~=3.6.0->ipywidgets) (0.5.1)\n",
      "Requirement already satisfied: pycparser in /srv/conda/envs/notebook/lib/python3.8/site-packages (from cffi>=1.0.1->argon2-cffi-bindings->argon2-cffi->notebook>=4.4.1->widgetsnbextension~=3.6.0->ipywidgets) (2.21)\n"
     ]
    }
   ],
   "source": [
    "!pip install ipywidgets"
   ]
  },
  {
   "cell_type": "code",
   "execution_count": 13,
   "metadata": {},
   "outputs": [
    {
     "name": "stdout",
     "output_type": "stream",
     "text": [
      "Collecting torch==1.9\n",
      "  Downloading torch-1.9.0-cp38-cp38-manylinux1_x86_64.whl (831.4 MB)\n",
      "\u001b[2K     \u001b[90m━━━━━━━━━━━━━━━━━━━━━━━━━━━━━━━━━━━━━━━\u001b[0m \u001b[32m831.4/831.4 MB\u001b[0m \u001b[31m1.6 MB/s\u001b[0m eta \u001b[36m0:00:00\u001b[0m00:01\u001b[0m00:01\u001b[0m\n",
      "\u001b[?25hCollecting numpy\n",
      "  Downloading numpy-1.23.3-cp38-cp38-manylinux_2_17_x86_64.manylinux2014_x86_64.whl (17.1 MB)\n",
      "\u001b[2K     \u001b[90m━━━━━━━━━━━━━━━━━━━━━━━━━━━━━━━━━━━━━━━━\u001b[0m \u001b[32m17.1/17.1 MB\u001b[0m \u001b[31m21.2 MB/s\u001b[0m eta \u001b[36m0:00:00\u001b[0m00:01\u001b[0m00:01\u001b[0m\n",
      "\u001b[?25hCollecting scikit-learn\n",
      "  Downloading scikit_learn-1.1.2-cp38-cp38-manylinux_2_17_x86_64.manylinux2014_x86_64.whl (31.2 MB)\n",
      "\u001b[2K     \u001b[90m━━━━━━━━━━━━━━━━━━━━━━━━━━━━━━━━━━━━━━━━\u001b[0m \u001b[32m31.2/31.2 MB\u001b[0m \u001b[31m19.3 MB/s\u001b[0m eta \u001b[36m0:00:00\u001b[0m00:01\u001b[0m00:01\u001b[0m\n",
      "\u001b[?25hCollecting pickle5\n",
      "  Downloading pickle5-0.0.11.tar.gz (132 kB)\n",
      "\u001b[2K     \u001b[90m━━━━━━━━━━━━━━━━━━━━━━━━━━━━━━━━━━━━━━\u001b[0m \u001b[32m132.1/132.1 kB\u001b[0m \u001b[31m29.5 MB/s\u001b[0m eta \u001b[36m0:00:00\u001b[0m\n",
      "\u001b[?25h  Preparing metadata (setup.py) ... \u001b[?25ldone\n",
      "\u001b[?25hCollecting timm==0.4.12\n",
      "  Using cached timm-0.4.12-py3-none-any.whl (376 kB)\n",
      "Requirement already satisfied: typing-extensions in /srv/conda/envs/notebook/lib/python3.8/site-packages (from torch==1.9) (4.3.0)\n",
      "Collecting torchvision\n",
      "  Downloading torchvision-0.13.1-cp38-cp38-manylinux1_x86_64.whl (19.1 MB)\n",
      "\u001b[2K     \u001b[90m━━━━━━━━━━━━━━━━━━━━━━━━━━━━━━━━━━━━━━━━\u001b[0m \u001b[32m19.1/19.1 MB\u001b[0m \u001b[31m21.1 MB/s\u001b[0m eta \u001b[36m0:00:00\u001b[0m00:01\u001b[0m00:01\u001b[0m\n",
      "\u001b[?25hCollecting scipy>=1.3.2\n",
      "  Downloading scipy-1.9.1-cp38-cp38-manylinux_2_17_x86_64.manylinux2014_x86_64.whl (43.4 MB)\n",
      "\u001b[2K     \u001b[90m━━━━━━━━━━━━━━━━━━━━━━━━━━━━━━━━━━━━━━━━\u001b[0m \u001b[32m43.4/43.4 MB\u001b[0m \u001b[31m14.3 MB/s\u001b[0m eta \u001b[36m0:00:00\u001b[0m00:01\u001b[0m00:01\u001b[0m\n",
      "\u001b[?25hCollecting joblib>=1.0.0\n",
      "  Using cached joblib-1.2.0-py3-none-any.whl (297 kB)\n",
      "Collecting threadpoolctl>=2.0.0\n",
      "  Using cached threadpoolctl-3.1.0-py3-none-any.whl (14 kB)\n",
      "Requirement already satisfied: requests in /srv/conda/envs/notebook/lib/python3.8/site-packages (from torchvision->timm==0.4.12) (2.28.1)\n",
      "Collecting torchvision\n",
      "  Downloading torchvision-0.13.0-cp38-cp38-manylinux1_x86_64.whl (19.1 MB)\n",
      "\u001b[2K     \u001b[90m━━━━━━━━━━━━━━━━━━━━━━━━━━━━━━━━━━━━━━━━\u001b[0m \u001b[32m19.1/19.1 MB\u001b[0m \u001b[31m22.2 MB/s\u001b[0m eta \u001b[36m0:00:00\u001b[0m00:01\u001b[0m00:01\u001b[0m\n",
      "\u001b[?25h  Downloading torchvision-0.12.0-cp38-cp38-manylinux1_x86_64.whl (21.0 MB)\n",
      "\u001b[2K     \u001b[90m━━━━━━━━━━━━━━━━━━━━━━━━━━━━━━━━━━━━━━━━\u001b[0m \u001b[32m21.0/21.0 MB\u001b[0m \u001b[31m20.4 MB/s\u001b[0m eta \u001b[36m0:00:00\u001b[0m00:01\u001b[0m00:01\u001b[0m\n",
      "\u001b[?25h  Downloading torchvision-0.11.3-cp38-cp38-manylinux1_x86_64.whl (23.2 MB)\n",
      "\u001b[2K     \u001b[90m━━━━━━━━━━━━━━━━━━━━━━━━━━━━━━━━━━━━━━━━\u001b[0m \u001b[32m23.2/23.2 MB\u001b[0m \u001b[31m20.8 MB/s\u001b[0m eta \u001b[36m0:00:00\u001b[0m00:01\u001b[0m00:01\u001b[0m\n",
      "\u001b[?25hCollecting pillow!=8.3.0,>=5.3.0\n",
      "  Downloading Pillow-9.2.0-cp38-cp38-manylinux_2_17_x86_64.manylinux2014_x86_64.whl (3.1 MB)\n",
      "\u001b[2K     \u001b[90m━━━━━━━━━━━━━━━━━━━━━━━━━━━━━━━━━━━━━━━━\u001b[0m \u001b[32m3.1/3.1 MB\u001b[0m \u001b[31m25.6 MB/s\u001b[0m eta \u001b[36m0:00:00\u001b[0ma \u001b[36m0:00:01\u001b[0m\n",
      "\u001b[?25hCollecting torchvision\n",
      "  Downloading torchvision-0.11.2-cp38-cp38-manylinux1_x86_64.whl (23.3 MB)\n",
      "\u001b[2K     \u001b[90m━━━━━━━━━━━━━━━━━━━━━━━━━━━━━━━━━━━━━━━━\u001b[0m \u001b[32m23.3/23.3 MB\u001b[0m \u001b[31m21.9 MB/s\u001b[0m eta \u001b[36m0:00:00\u001b[0m00:01\u001b[0m00:01\u001b[0m\n",
      "\u001b[?25h  Downloading torchvision-0.11.1-cp38-cp38-manylinux1_x86_64.whl (23.3 MB)\n",
      "\u001b[2K     \u001b[90m━━━━━━━━━━━━━━━━━━━━━━━━━━━━━━━━━━━━━━━━\u001b[0m \u001b[32m23.3/23.3 MB\u001b[0m \u001b[31m21.9 MB/s\u001b[0m eta \u001b[36m0:00:00\u001b[0m00:01\u001b[0m00:01\u001b[0m\n",
      "\u001b[?25h  Downloading torchvision-0.10.1-cp38-cp38-manylinux1_x86_64.whl (22.1 MB)\n",
      "\u001b[2K     \u001b[90m━━━━━━━━━━━━━━━━━━━━━━━━━━━━━━━━━━━━━━━━\u001b[0m \u001b[32m22.1/22.1 MB\u001b[0m \u001b[31m20.4 MB/s\u001b[0m eta \u001b[36m0:00:00\u001b[0m00:01\u001b[0m00:01\u001b[0m\n",
      "\u001b[?25h  Downloading torchvision-0.10.0-cp38-cp38-manylinux1_x86_64.whl (22.1 MB)\n",
      "\u001b[2K     \u001b[90m━━━━━━━━━━━━━━━━━━━━━━━━━━━━━━━━━━━━━━━━\u001b[0m \u001b[32m22.1/22.1 MB\u001b[0m \u001b[31m21.4 MB/s\u001b[0m eta \u001b[36m0:00:00\u001b[0m00:01\u001b[0m00:01\u001b[0m\n",
      "\u001b[?25hBuilding wheels for collected packages: pickle5\n",
      "  Building wheel for pickle5 (setup.py) ... \u001b[?25ldone\n",
      "\u001b[?25h  Created wheel for pickle5: filename=pickle5-0.0.11-cp38-cp38-linux_x86_64.whl size=268520 sha256=fb097719c5e5d4b9374355742ad0db1dde8bf411d8d6a1a364198e813bffdc3c\n",
      "  Stored in directory: /home/jovyan/.cache/pip/wheels/25/d4/61/dbd8edd1a0d656be7b4267c85db3b61951eb60016a0154a122\n",
      "Successfully built pickle5\n",
      "Installing collected packages: pickle5, torch, threadpoolctl, pillow, numpy, joblib, torchvision, scipy, timm, scikit-learn\n",
      "Successfully installed joblib-1.2.0 numpy-1.23.3 pickle5-0.0.11 pillow-9.2.0 scikit-learn-1.1.2 scipy-1.9.1 threadpoolctl-3.1.0 timm-0.4.12 torch-1.9.0 torchvision-0.10.0\n"
     ]
    }
   ],
   "source": [
    "!pip install torch==1.9 numpy scikit-learn pickle5 timm==0.4.12"
   ]
  },
  {
   "cell_type": "code",
   "execution_count": 14,
   "metadata": {},
   "outputs": [
    {
     "name": "stdout",
     "output_type": "stream",
     "text": [
      "# packages in environment at /srv/conda/envs/notebook:\n",
      "#\n",
      "# Name                    Version                   Build  Channel\n",
      "_libgcc_mutex             0.1                 conda_forge    conda-forge\n",
      "_openmp_mutex             4.5                       2_gnu    conda-forge\n",
      "alembic                   1.8.1              pyhd8ed1ab_0    conda-forge\n",
      "anyio                     3.5.0            py38h06a4308_0    anaconda\n",
      "argon2-cffi               21.3.0             pyhd8ed1ab_0    conda-forge\n",
      "argon2-cffi-bindings      21.2.0           py38h7f8727e_0    anaconda\n",
      "asttokens                 2.0.5              pyhd3eb1b0_0    anaconda\n",
      "async_generator           1.10                       py_0    conda-forge\n",
      "attrs                     22.1.0             pyh71513ae_1    conda-forge\n",
      "babel                     2.10.3             pyhd8ed1ab_0    conda-forge\n",
      "backcall                  0.2.0              pyh9f0ad1d_0    conda-forge\n",
      "backports                 1.0                        py_2    conda-forge\n",
      "backports.functools_lru_cache 1.6.4              pyhd8ed1ab_0    conda-forge\n",
      "beautifulsoup4            4.11.1             pyha770c72_0    conda-forge\n",
      "bleach                    5.0.1              pyhd8ed1ab_0    conda-forge\n",
      "blinker                   1.4                        py_1    conda-forge\n",
      "brotlipy                  0.7.0           py38h27cfd23_1003    anaconda\n",
      "c-ares                    1.18.1               h7f98852_0    conda-forge\n",
      "ca-certificates           2022.07.19           h06a4308_0    anaconda\n",
      "certifi                   2022.6.15        py38h06a4308_0    anaconda\n",
      "certipy                   0.1.3                      py_0    conda-forge\n",
      "cffi                      1.15.1           py38h74dc2b5_0    anaconda\n",
      "charset-normalizer        2.1.0              pyhd8ed1ab_0    conda-forge\n",
      "cryptography              37.0.1           py38h9ce1e76_0    anaconda\n",
      "debugpy                   1.5.1            py38h295c915_0    anaconda\n",
      "decorator                 5.1.1              pyhd8ed1ab_0    conda-forge\n",
      "defusedxml                0.7.1              pyhd8ed1ab_0    conda-forge\n",
      "entrypoints               0.4                pyhd8ed1ab_0    conda-forge\n",
      "executing                 0.8.3              pyhd3eb1b0_0    anaconda\n",
      "flit-core                 3.7.1              pyhd8ed1ab_0    conda-forge\n",
      "greenlet                  1.1.1            py38h295c915_0    anaconda\n",
      "icu                       70.1                 h27087fc_0    conda-forge\n",
      "idna                      3.3                pyhd8ed1ab_0    conda-forge\n",
      "importlib-metadata        4.11.4           py38h578d9bd_0    conda-forge\n",
      "importlib_metadata        4.11.4               hd8ed1ab_0    conda-forge\n",
      "importlib_resources       5.9.0              pyhd8ed1ab_0    conda-forge\n",
      "ipykernel                 6.15.1             pyh210e3f2_0    conda-forge\n",
      "ipython                   8.4.0            py38h06a4308_0    anaconda\n",
      "ipython_genutils          0.2.0                      py_1    conda-forge\n",
      "ipywidgets                7.7.0              pyhd8ed1ab_0    conda-forge\n",
      "jedi                      0.18.1           py38h06a4308_1    anaconda\n",
      "jinja2                    3.1.2              pyhd8ed1ab_1    conda-forge\n",
      "joblib                    1.2.0                    pypi_0    pypi\n",
      "json5                     0.9.5              pyh9f0ad1d_0    conda-forge\n",
      "jsonschema                4.9.0              pyhd8ed1ab_0    conda-forge\n",
      "jupyter-offlinenotebook   0.2.2              pyh1d7be83_0    conda-forge\n",
      "jupyter-resource-usage    0.6.1              pyhd8ed1ab_0    conda-forge\n",
      "jupyter_client            7.3.4              pyhd8ed1ab_0    conda-forge\n",
      "jupyter_core              4.10.0           py38h06a4308_0    anaconda\n",
      "jupyter_server            1.18.1             pyhd8ed1ab_0    conda-forge\n",
      "jupyter_telemetry         0.1.0              pyhd8ed1ab_1    conda-forge\n",
      "jupyterhub-base           1.3.0            py38h06a4308_1    anaconda\n",
      "jupyterhub-singleuser     1.3.0            py38h06a4308_1    anaconda\n",
      "jupyterlab                3.3.3              pyhd8ed1ab_0    conda-forge\n",
      "jupyterlab_pygments       0.2.2              pyhd8ed1ab_0    conda-forge\n",
      "jupyterlab_server         2.15.0             pyhd8ed1ab_0    conda-forge\n",
      "jupyterlab_widgets        1.1.1              pyhd8ed1ab_0    conda-forge\n",
      "keyutils                  1.6.1                h166bdaf_0    conda-forge\n",
      "krb5                      1.19.3               h3790be6_0    conda-forge\n",
      "ld_impl_linux-64          2.36.1               hea4e1c9_2    conda-forge\n",
      "libcurl                   7.83.1               h7bff187_0    conda-forge\n",
      "libedit                   3.1.20191231         he28a2e2_2    conda-forge\n",
      "libev                     4.33                 h516909a_1    conda-forge\n",
      "libffi                    3.3                  he6710b0_2    anaconda\n",
      "libgcc-ng                 12.1.0              h8d9b700_16    conda-forge\n",
      "libgomp                   12.1.0              h8d9b700_16    conda-forge\n",
      "libnghttp2                1.47.0               h727a467_0    conda-forge\n",
      "libnsl                    2.0.0                h7f98852_0    conda-forge\n",
      "libsodium                 1.0.18               h36c2ea0_1    conda-forge\n",
      "libssh2                   1.10.0               ha56f1ee_2    conda-forge\n",
      "libstdcxx-ng              12.1.0              ha89aaad_16    conda-forge\n",
      "libuv                     1.43.0               h7f98852_0    conda-forge\n",
      "libzlib                   1.2.12               h166bdaf_2    conda-forge\n",
      "mako                      1.2.1              pyhd8ed1ab_0    conda-forge\n",
      "markupsafe                2.1.1            py38h7f8727e_0    anaconda\n",
      "matplotlib-inline         0.1.3              pyhd8ed1ab_0    conda-forge\n",
      "mistune                   0.8.4           py38h7b6447c_1000    anaconda\n",
      "nbclassic                 0.4.3              pyhd8ed1ab_0    conda-forge\n",
      "nbclient                  0.6.6              pyhd8ed1ab_0    conda-forge\n",
      "nbconvert                 6.5.0              pyhd8ed1ab_0    conda-forge\n",
      "nbconvert-core            6.5.0              pyhd8ed1ab_0    conda-forge\n",
      "nbconvert-pandoc          6.5.0              pyhd8ed1ab_0    conda-forge\n",
      "nbformat                  5.4.0              pyhd8ed1ab_0    conda-forge\n",
      "ncurses                   6.3                  h27087fc_1    conda-forge\n",
      "nest-asyncio              1.5.5              pyhd8ed1ab_0    conda-forge\n",
      "nodejs                    16.14.2              h96d913c_1    conda-forge\n",
      "notebook                  6.4.10             pyha770c72_0    conda-forge\n",
      "notebook-shim             0.1.0              pyhd8ed1ab_0    conda-forge\n",
      "nteract_on_jupyter        2.1.3                      py_0    conda-forge\n",
      "numpy                     1.23.3                   pypi_0    pypi\n",
      "oauthlib                  3.2.0              pyhd8ed1ab_0    conda-forge\n",
      "openssl                   1.1.1q               h7f8727e_0    anaconda\n",
      "packaging                 21.3               pyhd8ed1ab_0    conda-forge\n",
      "pamela                    1.0.0                      py_0    conda-forge\n",
      "pandoc                    2.18                 ha770c72_0    conda-forge\n",
      "pandocfilters             1.5.0              pyhd8ed1ab_0    conda-forge\n",
      "parso                     0.8.3              pyhd8ed1ab_0    conda-forge\n",
      "pexpect                   4.8.0              pyh9f0ad1d_2    conda-forge\n",
      "pickle5                   0.0.11                   pypi_0    pypi\n",
      "pickleshare               0.7.5                   py_1003    conda-forge\n",
      "pillow                    9.2.0                    pypi_0    pypi\n",
      "pip                       22.2.1             pyhd8ed1ab_0    conda-forge\n",
      "pkgutil-resolve-name      1.3.10             pyhd8ed1ab_0    conda-forge\n",
      "prometheus_client         0.14.1             pyhd8ed1ab_0    conda-forge\n",
      "prompt-toolkit            3.0.30             pyha770c72_0    conda-forge\n",
      "psutil                    5.9.0            py38h5eee18b_0    anaconda\n",
      "ptyprocess                0.7.0              pyhd3deb0d_0    conda-forge\n",
      "pure_eval                 0.2.2              pyhd3eb1b0_0    anaconda\n",
      "pycparser                 2.21               pyhd8ed1ab_0    conda-forge\n",
      "pycurl                    7.45.1           py38h8f2d780_0    anaconda\n",
      "pygments                  2.12.0             pyhd8ed1ab_0    conda-forge\n",
      "pyjwt                     2.4.0              pyhd8ed1ab_0    conda-forge\n",
      "pyopenssl                 22.0.0             pyhd8ed1ab_0    conda-forge\n",
      "pyparsing                 3.0.9              pyhd8ed1ab_0    conda-forge\n",
      "pyrsistent                0.18.0           py38heee7806_0    anaconda\n",
      "pysocks                   1.7.1            py38h06a4308_0    anaconda\n",
      "python                    3.8.13               h12debd9_0    anaconda\n",
      "python-dateutil           2.8.2              pyhd8ed1ab_0    conda-forge\n",
      "python-fastjsonschema     2.16.1             pyhd8ed1ab_0    conda-forge\n",
      "python-json-logger        2.0.1              pyh9f0ad1d_0    conda-forge\n",
      "python_abi                3.8                      2_cp38    conda-forge\n",
      "pytz                      2022.1             pyhd8ed1ab_0    conda-forge\n",
      "pyzmq                     23.2.0           py38h6a678d5_0    anaconda\n",
      "readline                  8.1.2                h0f457ee_0    conda-forge\n",
      "requests                  2.28.1             pyhd8ed1ab_0    conda-forge\n",
      "ruamel.yaml               0.16.12          py38h7b6447c_1    anaconda\n",
      "ruamel.yaml.clib          0.2.6            py38h7f8727e_0    anaconda\n",
      "scikit-learn              1.1.2                    pypi_0    pypi\n",
      "scipy                     1.9.1                    pypi_0    pypi\n",
      "send2trash                1.8.0              pyhd8ed1ab_0    conda-forge\n",
      "setuptools                61.2.0           py38h06a4308_0    anaconda\n",
      "six                       1.16.0             pyh6c4a22f_0    conda-forge\n",
      "sniffio                   1.2.0            py38h06a4308_1    anaconda\n",
      "soupsieve                 2.3.2.post1        pyhd8ed1ab_0    conda-forge\n",
      "sqlalchemy                1.4.39           py38h5eee18b_0    anaconda\n",
      "sqlite                    3.39.2               h4ff8645_0    conda-forge\n",
      "stack_data                0.2.0              pyhd3eb1b0_0    anaconda\n",
      "terminado                 0.13.1           py38h06a4308_0    anaconda\n",
      "threadpoolctl             3.1.0                    pypi_0    pypi\n",
      "timm                      0.4.12                   pypi_0    pypi\n",
      "tinycss2                  1.1.1              pyhd8ed1ab_0    conda-forge\n",
      "tk                        8.6.12               h27826a3_0    conda-forge\n",
      "torch                     1.9.0                    pypi_0    pypi\n",
      "torchvision               0.10.0                   pypi_0    pypi\n",
      "tornado                   6.1              py38h27cfd23_0    anaconda\n",
      "traitlets                 5.3.0              pyhd8ed1ab_0    conda-forge\n",
      "typing_extensions         4.3.0              pyha770c72_0    conda-forge\n",
      "urllib3                   1.26.11            pyhd8ed1ab_0    conda-forge\n",
      "wcwidth                   0.2.5              pyh9f0ad1d_2    conda-forge\n",
      "webencodings              0.5.1                      py_1    conda-forge\n",
      "websocket-client          1.3.3              pyhd8ed1ab_0    conda-forge\n",
      "wheel                     0.37.1             pyhd8ed1ab_0    conda-forge\n",
      "widgetsnbextension        3.6.1              pyha770c72_0    conda-forge\n",
      "xz                        5.2.5                h516909a_1    conda-forge\n",
      "zeromq                    4.3.4                h9c3ff4c_1    conda-forge\n",
      "zipp                      3.8.0              pyhd8ed1ab_0    conda-forge\n",
      "zlib                      1.2.12               h166bdaf_2    conda-forge\n",
      "\n",
      "Note: you may need to restart the kernel to use updated packages.\n"
     ]
    }
   ],
   "source": [
    "conda list"
   ]
  },
  {
   "cell_type": "markdown",
   "metadata": {
    "id": "-w5F3t0nnB4P"
   },
   "source": [
    "## Import modules"
   ]
  },
  {
   "cell_type": "code",
   "execution_count": 1,
   "metadata": {
    "id": "OVDG2d1bnBJ9"
   },
   "outputs": [],
   "source": [
    "import ipywidgets as widgets\n",
    "from IPython.display import display\n",
    "from Toyota_Smarthome.pipline.train import run"
   ]
  },
  {
   "cell_type": "markdown",
   "metadata": {
    "id": "-O7cIIepo0IY"
   },
   "source": [
    "## Initialization"
   ]
  },
  {
   "cell_type": "markdown",
   "metadata": {
    "id": "FWcFnGR2mcVg"
   },
   "source": [
    "### Initialize Values"
   ]
  },
  {
   "cell_type": "code",
   "execution_count": 2,
   "metadata": {
    "id": "RmO4T-Chm-XX"
   },
   "outputs": [],
   "source": [
    "_epoch = None\n",
    "_batch_size = None\n",
    "_name = None"
   ]
  },
  {
   "cell_type": "markdown",
   "metadata": {
    "id": "L4H86SkHoZne"
   },
   "source": [
    "### Initialize Widgets"
   ]
  },
  {
   "cell_type": "code",
   "execution_count": 3,
   "metadata": {
    "id": "kQAu2svRn60o"
   },
   "outputs": [],
   "source": [
    "epochWidget = widgets.BoundedIntText(\n",
    "    value=7,\n",
    "    min=0,\n",
    "    max=1000,\n",
    "    step=1,\n",
    "    description='Epoch:',\n",
    "    disabled=False\n",
    ")\n",
    "batch_sizeWidget = widgets.BoundedIntText(\n",
    "    value=7,\n",
    "    min=0,\n",
    "    max=86,\n",
    "    step=1,\n",
    "    description='Batch Size:',\n",
    "    disabled=False\n",
    ")\n",
    "nameWidget = widgets.Text(\n",
    "    value='new_model.zip',\n",
    "    placeholder='Enter name for new model with extension',\n",
    "    description='Model Name:',\n",
    "    disabled=False\n",
    ")\n",
    "box = widgets.Box([epochWidget, batch_sizeWidget, nameWidget])\n",
    "def updateValues(epoch, batch_size, name):\n",
    "    _epoch = epoch\n",
    "    _batch_size = batch_size \n",
    "    _name = name"
   ]
  },
  {
   "cell_type": "markdown",
   "metadata": {
    "id": "fOrEgog-osik"
   },
   "source": [
    "## Display Widgets"
   ]
  },
  {
   "cell_type": "code",
   "execution_count": 4,
   "metadata": {
    "colab": {
     "base_uri": "https://localhost:8080/",
     "height": 113,
     "referenced_widgets": [
      "5cf55e54188d46fea212cd8eddacc2da",
      "79243ed8119840458d5e047d98b71c4a",
      "3d568850887640619dd1817ea7a7600e",
      "302cecf2cbb74345addf29fcb7ee6124",
      "431c653b18d443e3a2db2b718210681b",
      "af6a0ec0a6eb4aa9b4a8d0148cf86477",
      "302ee5be77c444ad99fde2cf1cb140be",
      "28baa7f526ca4bc995ee01ac2f186a66",
      "4a5721b69fc241afbf600b9000b874c2",
      "9e110354c6644107842b08a9cec5da29",
      "9cda4c8727b54646b9d7c218601ca916",
      "2a95a69c0f854950bcb9ce7fac2935b8",
      "1152a7d104234943bd8cbfb9f2f034db"
     ]
    },
    "id": "1rJMpvmUn9Bl",
    "outputId": "578bbbe2-2547-426e-89bf-90bee8360016"
   },
   "outputs": [
    {
     "data": {
      "application/vnd.jupyter.widget-view+json": {
       "model_id": "9af206ad7f624c07bd23a20feeb2d99c",
       "version_major": 2,
       "version_minor": 0
      },
      "text/plain": [
       "interactive(children=(BoundedIntText(value=7, description='Epoch:', max=1000), BoundedIntText(value=7, descrip…"
      ]
     },
     "metadata": {},
     "output_type": "display_data"
    }
   ],
   "source": [
    "w = widgets.interact(updateValues, epoch=epochWidget, batch_size=batch_sizeWidget, name=nameWidget)\n"
   ]
  },
  {
   "cell_type": "markdown",
   "metadata": {
    "id": "9bynwD1rmomJ"
   },
   "source": [
    "#R2\n",
    "- [ ] As a USER, I want to be able to load the video data so that I can choose and see the video in an output cell."
   ]
  },
  {
   "cell_type": "code",
   "execution_count": null,
   "metadata": {
    "id": "0E0tZP37m42W"
   },
   "outputs": [],
   "source": []
  },
  {
   "cell_type": "markdown",
   "metadata": {
    "id": "ObvwJAETm4_P"
   },
   "source": [
    "#R3\n",
    "- [ ] As a USER, I want to be able to load a list of pretrained models so that I can choose a model to perform inferencing on a chosen video.\n",
    "- [ ] As a USER, I want to be able to see the inference results of the pretrained model from the chosen video."
   ]
  },
  {
   "cell_type": "code",
   "execution_count": null,
   "metadata": {
    "id": "mPPBJU8qnTJZ"
   },
   "outputs": [],
   "source": []
  },
  {
   "cell_type": "markdown",
   "metadata": {
    "id": "SBo-F3JfnTkh"
   },
   "source": [
    "#R4\n",
    "- [ ] As a USER, I want to be able to see the inference results of the pretrained model from the chosen video.\n",
    "- [ ] As a USER, I want to be able to initialise a model to use for training.\n",
    "- [X] As a USER, I want to be able to name the new model to use for training.\n",
    "- [X] As a USER, I want to be able to set different configurations (batch_size and epochs) to use for training.\n",
    "- [ ] As a USER, I want to be able to run the training of the model to fit the model on the dataset.\n",
    "- [ ] As a USER, I want to be able to see visual elements/indications for the progress of the training.\n",
    "- [ ] As a USER, I want to be able to see the trained model in the updated list of pretrained models. (linked to U3)"
   ]
  },
  {
   "cell_type": "code",
   "execution_count": null,
   "metadata": {
    "id": "aLftsTXQn4sV"
   },
   "outputs": [],
   "source": []
  },
  {
   "cell_type": "code",
   "execution_count": null,
   "metadata": {
    "id": "prfLBbIXn3E3"
   },
   "outputs": [],
   "source": []
  },
  {
   "cell_type": "markdown",
   "metadata": {
    "id": "LLsKDXeyn3LV"
   },
   "source": [
    "#R5\n",
    "- [ ] As a USER, I want to be able to choose a dataset to use for testing.\n",
    "- [ ] As a USER, I want to be able to load a list of pretrained models so that I can load a model for testing.\n",
    "- [ ] As a USER, I want to be able to perform the test sequence to get results.\n",
    "- [ ] As a USER, I want to be able to see the progress of the testing being done.\n",
    "- [ ] As a USER, I want to be able to view the results of how well the model performed.\n",
    "- [ ] As a USER, I want to be able to save the results to a folder in the repo.\n",
    "\n"
   ]
  },
  {
   "cell_type": "code",
   "execution_count": null,
   "metadata": {
    "id": "FPlzACwFoKim"
   },
   "outputs": [],
   "source": []
  },
  {
   "cell_type": "markdown",
   "metadata": {
    "id": "m2auiOjIoKpW"
   },
   "source": [
    "#R6\n",
    "- [ ] As a USER, I want to be able to toggle the dependencies between the two different machine learning pipelines.\n",
    "- [ ] As a USER, I want to be able to comprehend all the cells within the notebook so that I can understand what I am interacting with. (Describe what each cell does at a high level language)\n",
    "- [ ] As a USER, I want to be able to read about the details of each cell to understand the technical implementation of the machine learning process. (Add detailed comments to the code, describe in low level language)"
   ]
  },
  {
   "cell_type": "code",
   "execution_count": null,
   "metadata": {
    "id": "bC4gFzzzrS5G"
   },
   "outputs": [],
   "source": []
  }
 ],
 "metadata": {
  "colab": {
   "collapsed_sections": [
    "-O7cIIepo0IY",
    "fOrEgog-osik"
   ],
   "provenance": []
  },
  "kernelspec": {
   "display_name": "Python 3 (ipykernel)",
   "language": "python",
   "name": "python3"
  },
  "language_info": {
   "codemirror_mode": {
    "name": "ipython",
    "version": 3
   },
   "file_extension": ".py",
   "mimetype": "text/x-python",
   "name": "python",
   "nbconvert_exporter": "python",
   "pygments_lexer": "ipython3",
   "version": "3.7.12"
  },
  "widgets": {
   "application/vnd.jupyter.widget-state+json": {
    "1152a7d104234943bd8cbfb9f2f034db": {
     "model_module": "@jupyter-widgets/base",
     "model_module_version": "1.2.0",
     "model_name": "LayoutModel",
     "state": {
      "_model_module": "@jupyter-widgets/base",
      "_model_module_version": "1.2.0",
      "_model_name": "LayoutModel",
      "_view_count": null,
      "_view_module": "@jupyter-widgets/base",
      "_view_module_version": "1.2.0",
      "_view_name": "LayoutView",
      "align_content": null,
      "align_items": null,
      "align_self": null,
      "border": null,
      "bottom": null,
      "display": null,
      "flex": null,
      "flex_flow": null,
      "grid_area": null,
      "grid_auto_columns": null,
      "grid_auto_flow": null,
      "grid_auto_rows": null,
      "grid_column": null,
      "grid_gap": null,
      "grid_row": null,
      "grid_template_areas": null,
      "grid_template_columns": null,
      "grid_template_rows": null,
      "height": null,
      "justify_content": null,
      "justify_items": null,
      "left": null,
      "margin": null,
      "max_height": null,
      "max_width": null,
      "min_height": null,
      "min_width": null,
      "object_fit": null,
      "object_position": null,
      "order": null,
      "overflow": null,
      "overflow_x": null,
      "overflow_y": null,
      "padding": null,
      "right": null,
      "top": null,
      "visibility": null,
      "width": null
     }
    },
    "28baa7f526ca4bc995ee01ac2f186a66": {
     "model_module": "@jupyter-widgets/controls",
     "model_module_version": "1.5.0",
     "model_name": "DescriptionStyleModel",
     "state": {
      "_model_module": "@jupyter-widgets/controls",
      "_model_module_version": "1.5.0",
      "_model_name": "DescriptionStyleModel",
      "_view_count": null,
      "_view_module": "@jupyter-widgets/base",
      "_view_module_version": "1.2.0",
      "_view_name": "StyleView",
      "description_width": ""
     }
    },
    "2a95a69c0f854950bcb9ce7fac2935b8": {
     "model_module": "@jupyter-widgets/controls",
     "model_module_version": "1.5.0",
     "model_name": "DescriptionStyleModel",
     "state": {
      "_model_module": "@jupyter-widgets/controls",
      "_model_module_version": "1.5.0",
      "_model_name": "DescriptionStyleModel",
      "_view_count": null,
      "_view_module": "@jupyter-widgets/base",
      "_view_module_version": "1.2.0",
      "_view_name": "StyleView",
      "description_width": ""
     }
    },
    "302cecf2cbb74345addf29fcb7ee6124": {
     "model_module": "@jupyter-widgets/controls",
     "model_module_version": "1.5.0",
     "model_name": "TextModel",
     "state": {
      "_dom_classes": [],
      "_model_module": "@jupyter-widgets/controls",
      "_model_module_version": "1.5.0",
      "_model_name": "TextModel",
      "_view_count": null,
      "_view_module": "@jupyter-widgets/controls",
      "_view_module_version": "1.5.0",
      "_view_name": "TextView",
      "continuous_update": true,
      "description": "Model Name:",
      "description_tooltip": null,
      "disabled": false,
      "layout": "IPY_MODEL_9cda4c8727b54646b9d7c218601ca916",
      "placeholder": "Enter name for new model with extension",
      "style": "IPY_MODEL_2a95a69c0f854950bcb9ce7fac2935b8",
      "value": "new_model.zip"
     }
    },
    "302ee5be77c444ad99fde2cf1cb140be": {
     "model_module": "@jupyter-widgets/base",
     "model_module_version": "1.2.0",
     "model_name": "LayoutModel",
     "state": {
      "_model_module": "@jupyter-widgets/base",
      "_model_module_version": "1.2.0",
      "_model_name": "LayoutModel",
      "_view_count": null,
      "_view_module": "@jupyter-widgets/base",
      "_view_module_version": "1.2.0",
      "_view_name": "LayoutView",
      "align_content": null,
      "align_items": null,
      "align_self": null,
      "border": null,
      "bottom": null,
      "display": null,
      "flex": null,
      "flex_flow": null,
      "grid_area": null,
      "grid_auto_columns": null,
      "grid_auto_flow": null,
      "grid_auto_rows": null,
      "grid_column": null,
      "grid_gap": null,
      "grid_row": null,
      "grid_template_areas": null,
      "grid_template_columns": null,
      "grid_template_rows": null,
      "height": null,
      "justify_content": null,
      "justify_items": null,
      "left": null,
      "margin": null,
      "max_height": null,
      "max_width": null,
      "min_height": null,
      "min_width": null,
      "object_fit": null,
      "object_position": null,
      "order": null,
      "overflow": null,
      "overflow_x": null,
      "overflow_y": null,
      "padding": null,
      "right": null,
      "top": null,
      "visibility": null,
      "width": null
     }
    },
    "3d568850887640619dd1817ea7a7600e": {
     "model_module": "@jupyter-widgets/controls",
     "model_module_version": "1.5.0",
     "model_name": "BoundedIntTextModel",
     "state": {
      "_dom_classes": [],
      "_model_module": "@jupyter-widgets/controls",
      "_model_module_version": "1.5.0",
      "_model_name": "BoundedIntTextModel",
      "_view_count": null,
      "_view_module": "@jupyter-widgets/controls",
      "_view_module_version": "1.5.0",
      "_view_name": "IntTextView",
      "continuous_update": false,
      "description": "Batch Size:",
      "description_tooltip": null,
      "disabled": false,
      "layout": "IPY_MODEL_4a5721b69fc241afbf600b9000b874c2",
      "max": 86,
      "min": 0,
      "step": 1,
      "style": "IPY_MODEL_9e110354c6644107842b08a9cec5da29",
      "value": 7
     }
    },
    "431c653b18d443e3a2db2b718210681b": {
     "model_module": "@jupyter-widgets/output",
     "model_module_version": "1.0.0",
     "model_name": "OutputModel",
     "state": {
      "_dom_classes": [],
      "_model_module": "@jupyter-widgets/output",
      "_model_module_version": "1.0.0",
      "_model_name": "OutputModel",
      "_view_count": null,
      "_view_module": "@jupyter-widgets/output",
      "_view_module_version": "1.0.0",
      "_view_name": "OutputView",
      "layout": "IPY_MODEL_1152a7d104234943bd8cbfb9f2f034db",
      "msg_id": "",
      "outputs": []
     }
    },
    "4a5721b69fc241afbf600b9000b874c2": {
     "model_module": "@jupyter-widgets/base",
     "model_module_version": "1.2.0",
     "model_name": "LayoutModel",
     "state": {
      "_model_module": "@jupyter-widgets/base",
      "_model_module_version": "1.2.0",
      "_model_name": "LayoutModel",
      "_view_count": null,
      "_view_module": "@jupyter-widgets/base",
      "_view_module_version": "1.2.0",
      "_view_name": "LayoutView",
      "align_content": null,
      "align_items": null,
      "align_self": null,
      "border": null,
      "bottom": null,
      "display": null,
      "flex": null,
      "flex_flow": null,
      "grid_area": null,
      "grid_auto_columns": null,
      "grid_auto_flow": null,
      "grid_auto_rows": null,
      "grid_column": null,
      "grid_gap": null,
      "grid_row": null,
      "grid_template_areas": null,
      "grid_template_columns": null,
      "grid_template_rows": null,
      "height": null,
      "justify_content": null,
      "justify_items": null,
      "left": null,
      "margin": null,
      "max_height": null,
      "max_width": null,
      "min_height": null,
      "min_width": null,
      "object_fit": null,
      "object_position": null,
      "order": null,
      "overflow": null,
      "overflow_x": null,
      "overflow_y": null,
      "padding": null,
      "right": null,
      "top": null,
      "visibility": null,
      "width": null
     }
    },
    "5cf55e54188d46fea212cd8eddacc2da": {
     "model_module": "@jupyter-widgets/controls",
     "model_module_version": "1.5.0",
     "model_name": "VBoxModel",
     "state": {
      "_dom_classes": [
       "widget-interact"
      ],
      "_model_module": "@jupyter-widgets/controls",
      "_model_module_version": "1.5.0",
      "_model_name": "VBoxModel",
      "_view_count": null,
      "_view_module": "@jupyter-widgets/controls",
      "_view_module_version": "1.5.0",
      "_view_name": "VBoxView",
      "box_style": "",
      "children": [
       "IPY_MODEL_79243ed8119840458d5e047d98b71c4a",
       "IPY_MODEL_3d568850887640619dd1817ea7a7600e",
       "IPY_MODEL_302cecf2cbb74345addf29fcb7ee6124",
       "IPY_MODEL_431c653b18d443e3a2db2b718210681b"
      ],
      "layout": "IPY_MODEL_af6a0ec0a6eb4aa9b4a8d0148cf86477"
     }
    },
    "79243ed8119840458d5e047d98b71c4a": {
     "model_module": "@jupyter-widgets/controls",
     "model_module_version": "1.5.0",
     "model_name": "BoundedIntTextModel",
     "state": {
      "_dom_classes": [],
      "_model_module": "@jupyter-widgets/controls",
      "_model_module_version": "1.5.0",
      "_model_name": "BoundedIntTextModel",
      "_view_count": null,
      "_view_module": "@jupyter-widgets/controls",
      "_view_module_version": "1.5.0",
      "_view_name": "IntTextView",
      "continuous_update": false,
      "description": "Epoch:",
      "description_tooltip": null,
      "disabled": false,
      "layout": "IPY_MODEL_302ee5be77c444ad99fde2cf1cb140be",
      "max": 1000,
      "min": 0,
      "step": 1,
      "style": "IPY_MODEL_28baa7f526ca4bc995ee01ac2f186a66",
      "value": 7
     }
    },
    "9cda4c8727b54646b9d7c218601ca916": {
     "model_module": "@jupyter-widgets/base",
     "model_module_version": "1.2.0",
     "model_name": "LayoutModel",
     "state": {
      "_model_module": "@jupyter-widgets/base",
      "_model_module_version": "1.2.0",
      "_model_name": "LayoutModel",
      "_view_count": null,
      "_view_module": "@jupyter-widgets/base",
      "_view_module_version": "1.2.0",
      "_view_name": "LayoutView",
      "align_content": null,
      "align_items": null,
      "align_self": null,
      "border": null,
      "bottom": null,
      "display": null,
      "flex": null,
      "flex_flow": null,
      "grid_area": null,
      "grid_auto_columns": null,
      "grid_auto_flow": null,
      "grid_auto_rows": null,
      "grid_column": null,
      "grid_gap": null,
      "grid_row": null,
      "grid_template_areas": null,
      "grid_template_columns": null,
      "grid_template_rows": null,
      "height": null,
      "justify_content": null,
      "justify_items": null,
      "left": null,
      "margin": null,
      "max_height": null,
      "max_width": null,
      "min_height": null,
      "min_width": null,
      "object_fit": null,
      "object_position": null,
      "order": null,
      "overflow": null,
      "overflow_x": null,
      "overflow_y": null,
      "padding": null,
      "right": null,
      "top": null,
      "visibility": null,
      "width": null
     }
    },
    "9e110354c6644107842b08a9cec5da29": {
     "model_module": "@jupyter-widgets/controls",
     "model_module_version": "1.5.0",
     "model_name": "DescriptionStyleModel",
     "state": {
      "_model_module": "@jupyter-widgets/controls",
      "_model_module_version": "1.5.0",
      "_model_name": "DescriptionStyleModel",
      "_view_count": null,
      "_view_module": "@jupyter-widgets/base",
      "_view_module_version": "1.2.0",
      "_view_name": "StyleView",
      "description_width": ""
     }
    },
    "af6a0ec0a6eb4aa9b4a8d0148cf86477": {
     "model_module": "@jupyter-widgets/base",
     "model_module_version": "1.2.0",
     "model_name": "LayoutModel",
     "state": {
      "_model_module": "@jupyter-widgets/base",
      "_model_module_version": "1.2.0",
      "_model_name": "LayoutModel",
      "_view_count": null,
      "_view_module": "@jupyter-widgets/base",
      "_view_module_version": "1.2.0",
      "_view_name": "LayoutView",
      "align_content": null,
      "align_items": null,
      "align_self": null,
      "border": null,
      "bottom": null,
      "display": null,
      "flex": null,
      "flex_flow": null,
      "grid_area": null,
      "grid_auto_columns": null,
      "grid_auto_flow": null,
      "grid_auto_rows": null,
      "grid_column": null,
      "grid_gap": null,
      "grid_row": null,
      "grid_template_areas": null,
      "grid_template_columns": null,
      "grid_template_rows": null,
      "height": null,
      "justify_content": null,
      "justify_items": null,
      "left": null,
      "margin": null,
      "max_height": null,
      "max_width": null,
      "min_height": null,
      "min_width": null,
      "object_fit": null,
      "object_position": null,
      "order": null,
      "overflow": null,
      "overflow_x": null,
      "overflow_y": null,
      "padding": null,
      "right": null,
      "top": null,
      "visibility": null,
      "width": null
     }
    }
   }
  }
 },
 "nbformat": 4,
 "nbformat_minor": 4
}
