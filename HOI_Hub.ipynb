{
  "nbformat": 4,
  "nbformat_minor": 0,
  "metadata": {
    "colab": {
      "provenance": [],
      "collapsed_sections": []
    },
    "kernelspec": {
      "name": "python3",
      "display_name": "Python 3"
    },
    "language_info": {
      "name": "python"
    }
  },
  "cells": [
    {
      "cell_type": "markdown",
      "source": [
        "#Formatting and Best Practices\n",
        " - When a user story is tested and completed, update the stories' checkbox in its respective cell.\n",
        " - [ ] Unchecked\n",
        " - [X] Checked\n",
        "\n"
      ],
      "metadata": {
        "id": "66RoNbavo2cF"
      }
    },
    {
      "cell_type": "markdown",
      "source": [
        "# Setup\n"
      ],
      "metadata": {
        "id": "GxOjWcRrlit1"
      }
    },
    {
      "cell_type": "code",
      "source": [],
      "metadata": {
        "id": "VwoNaJJEmdkb"
      },
      "execution_count": null,
      "outputs": []
    },
    {
      "cell_type": "markdown",
      "source": [
        "#Initialization"
      ],
      "metadata": {
        "id": "FWcFnGR2mcVg"
      }
    },
    {
      "cell_type": "code",
      "source": [],
      "metadata": {
        "id": "PPu3Mbd8mn-S"
      },
      "execution_count": null,
      "outputs": []
    },
    {
      "cell_type": "markdown",
      "source": [
        "#R2\n",
        "- [ ] As a USER, I want to be able to load the video data so that I can choose and see the video in an output cell."
      ],
      "metadata": {
        "id": "9bynwD1rmomJ"
      }
    },
    {
      "cell_type": "code",
      "source": [],
      "metadata": {
        "id": "0E0tZP37m42W"
      },
      "execution_count": null,
      "outputs": []
    },
    {
      "cell_type": "markdown",
      "source": [
        "#R3\n",
        "- [ ] As a USER, I want to be able to load a list of pretrained models so that I can choose a model to perform inferencing on a chosen video.\n",
        "- [ ] As a USER, I want to be able to see the inference results of the pretrained model from the chosen video."
      ],
      "metadata": {
        "id": "ObvwJAETm4_P"
      }
    },
    {
      "cell_type": "code",
      "source": [],
      "metadata": {
        "id": "mPPBJU8qnTJZ"
      },
      "execution_count": null,
      "outputs": []
    },
    {
      "cell_type": "markdown",
      "source": [
        "#R4\n",
        "- [ ] As a USER, I want to be able to see the inference results of the pretrained model from the chosen video.\n",
        "- [ ] As a USER, I want to be able to initialise a model to use for training.\n",
        "- [ ] As a USER, I want to be able to name the new model to use for training.\n",
        "- [ ] As a USER, I want to be able to set different configurations (batch_size and epochs) to use for training.\n",
        "- [ ] As a USER, I want to be able to run the training of the model to fit the model on the dataset.\n",
        "- [ ] As a USER, I want to be able to see visual elements/indications for the progress of the training.\n",
        "- [ ] As a USER, I want to be able to see the trained model in the updated list of pretrained models. (linked to U3)"
      ],
      "metadata": {
        "id": "SBo-F3JfnTkh"
      }
    },
    {
      "cell_type": "code",
      "source": [],
      "metadata": {
        "id": "prfLBbIXn3E3"
      },
      "execution_count": null,
      "outputs": []
    },
    {
      "cell_type": "markdown",
      "source": [
        "#R5\n",
        "- [ ] As a USER, I want to be able to choose a dataset to use for testing.\n",
        "- [ ] As a USER, I want to be able to load a list of pretrained models so that I can load a model for testing.\n",
        "- [ ] As a USER, I want to be able to perform the test sequence to get results.\n",
        "- [ ] As a USER, I want to be able to see the progress of the testing being done.\n",
        "- [ ] As a USER, I want to be able to view the results of how well the model performed.\n",
        "- [ ] As a USER, I want to be able to save the results to a folder in the repo.\n",
        "\n"
      ],
      "metadata": {
        "id": "LLsKDXeyn3LV"
      }
    },
    {
      "cell_type": "code",
      "source": [],
      "metadata": {
        "id": "FPlzACwFoKim"
      },
      "execution_count": null,
      "outputs": []
    },
    {
      "cell_type": "markdown",
      "source": [
        "#R6\n",
        "- [ ] As a USER, I want to be able to toggle the dependencies between the two different machine learning pipelines.\n",
        "- [ ] As a USER, I want to be able to comprehend all the cells within the notebook so that I can understand what I am interacting with. (Describe what each cell does at a high level language)\n",
        "- [ ] As a USER, I want to be able to read about the details of each cell to understand the technical implementation of the machine learning process. (Add detailed comments to the code, describe in low level language)"
      ],
      "metadata": {
        "id": "m2auiOjIoKpW"
      }
    },
    {
      "cell_type": "code",
      "source": [],
      "metadata": {
        "id": "bC4gFzzzrS5G"
      },
      "execution_count": null,
      "outputs": []
    }
  ]
}